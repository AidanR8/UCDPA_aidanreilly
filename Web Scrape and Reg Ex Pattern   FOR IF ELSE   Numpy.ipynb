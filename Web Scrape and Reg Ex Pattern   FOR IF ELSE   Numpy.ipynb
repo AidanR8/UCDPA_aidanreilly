{
 "cells": [
  {
   "cell_type": "code",
   "execution_count": null,
   "id": "632105c3",
   "metadata": {},
   "outputs": [],
   "source": [
    "# IF ELSE STATEMENT EXAMPLE\n",
    "\n",
    "sun_hours = 0\n",
    "\n",
    "for sun in CorkMonthly2001['sun']:\n",
    "\n",
    "    if sun >= :\n",
    "\n",
    "        sun_count += 1\n",
    "        \n",
    "print(\"Number of months with sun hours great than 30 :\", sun_count)"
   ]
  },
  {
   "cell_type": "code",
   "execution_count": 1,
   "id": "f63d4522",
   "metadata": {},
   "outputs": [
    {
     "name": "stdout",
     "output_type": "stream",
     "text": [
      "[28 13 45 12  4  8  0]\n",
      "[6 4 5 3 1 0 2]\n"
     ]
    }
   ],
   "source": [
    "import numpy as np\n",
    "\n",
    "array = np.array([28, 13, 45, 12, 4, 8, 0])\n",
    "print(array)\n",
    "\n",
    "print(np.argsort(array))"
   ]
  },
  {
   "cell_type": "code",
   "execution_count": null,
   "id": "c30fec1f",
   "metadata": {},
   "outputs": [],
   "source": []
  }
 ],
 "metadata": {
  "kernelspec": {
   "display_name": "Python 3 (ipykernel)",
   "language": "python",
   "name": "python3"
  },
  "language_info": {
   "codemirror_mode": {
    "name": "ipython",
    "version": 3
   },
   "file_extension": ".py",
   "mimetype": "text/x-python",
   "name": "python",
   "nbconvert_exporter": "python",
   "pygments_lexer": "ipython3",
   "version": "3.9.12"
  }
 },
 "nbformat": 4,
 "nbformat_minor": 5
}
