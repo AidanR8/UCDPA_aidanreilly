{
 "cells": [
  {
   "cell_type": "code",
   "execution_count": 15,
   "id": "bcd1167a",
   "metadata": {},
   "outputs": [],
   "source": [
    "import requests"
   ]
  },
  {
   "cell_type": "code",
   "execution_count": 16,
   "id": "c809c9b6",
   "metadata": {},
   "outputs": [],
   "source": [
    "data = requests.get (\"http://api.open-notify.org/astros.json\")"
   ]
  },
  {
   "cell_type": "code",
   "execution_count": 17,
   "id": "80138aff",
   "metadata": {},
   "outputs": [
    {
     "data": {
      "text/plain": [
       "{'number': 10,\n",
       " 'people': [{'name': 'Oleg Artemyev', 'craft': 'ISS'},\n",
       "  {'name': 'Denis Matveev', 'craft': 'ISS'},\n",
       "  {'name': 'Sergey Korsakov', 'craft': 'ISS'},\n",
       "  {'name': 'Kjell Lindgren', 'craft': 'ISS'},\n",
       "  {'name': 'Bob Hines', 'craft': 'ISS'},\n",
       "  {'name': 'Samantha Cristoforetti', 'craft': 'ISS'},\n",
       "  {'name': 'Jessica Watkins', 'craft': 'ISS'},\n",
       "  {'name': 'Cai Xuzhe', 'craft': 'Tiangong'},\n",
       "  {'name': 'Chen Dong', 'craft': 'Tiangong'},\n",
       "  {'name': 'Liu Yang', 'craft': 'Tiangong'}],\n",
       " 'message': 'success'}"
      ]
     },
     "execution_count": 17,
     "metadata": {},
     "output_type": "execute_result"
    }
   ],
   "source": [
    "data.json()"
   ]
  },
  {
   "cell_type": "code",
   "execution_count": 18,
   "id": "202d0f95",
   "metadata": {},
   "outputs": [
    {
     "data": {
      "text/plain": [
       "{'iss_position': {'longitude': '-157.0886', 'latitude': '22.7662'},\n",
       " 'message': 'success',\n",
       " 'timestamp': 1662655867}"
      ]
     },
     "execution_count": 18,
     "metadata": {},
     "output_type": "execute_result"
    }
   ],
   "source": [
    "data = requests.get (\"http://api.open-notify.org/iss-now.json\")\n",
    "data.json()"
   ]
  },
  {
   "cell_type": "code",
   "execution_count": null,
   "id": "eece5aaf",
   "metadata": {},
   "outputs": [],
   "source": []
  }
 ],
 "metadata": {
  "kernelspec": {
   "display_name": "Python 3 (ipykernel)",
   "language": "python",
   "name": "python3"
  },
  "language_info": {
   "codemirror_mode": {
    "name": "ipython",
    "version": 3
   },
   "file_extension": ".py",
   "mimetype": "text/x-python",
   "name": "python",
   "nbconvert_exporter": "python",
   "pygments_lexer": "ipython3",
   "version": "3.9.12"
  }
 },
 "nbformat": 4,
 "nbformat_minor": 5
}
