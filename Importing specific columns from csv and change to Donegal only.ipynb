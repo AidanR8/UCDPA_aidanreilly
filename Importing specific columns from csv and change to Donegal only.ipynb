{
 "cells": [
  {
   "cell_type": "code",
   "execution_count": 113,
   "id": "4c4fb8f9",
   "metadata": {},
   "outputs": [
    {
     "data": {
      "text/html": [
       "<div>\n",
       "<style scoped>\n",
       "    .dataframe tbody tr th:only-of-type {\n",
       "        vertical-align: middle;\n",
       "    }\n",
       "\n",
       "    .dataframe tbody tr th {\n",
       "        vertical-align: top;\n",
       "    }\n",
       "\n",
       "    .dataframe thead th {\n",
       "        text-align: right;\n",
       "    }\n",
       "</style>\n",
       "<table border=\"1\" class=\"dataframe\">\n",
       "  <thead>\n",
       "    <tr style=\"text-align: right;\">\n",
       "      <th></th>\n",
       "      <th>year</th>\n",
       "      <th>month</th>\n",
       "      <th>maxtp</th>\n",
       "      <th>mintp</th>\n",
       "      <th>rain</th>\n",
       "      <th>wdsp</th>\n",
       "      <th>sun</th>\n",
       "    </tr>\n",
       "  </thead>\n",
       "  <tbody>\n",
       "    <tr>\n",
       "      <th>0</th>\n",
       "      <td>1955</td>\n",
       "      <td>5</td>\n",
       "      <td>20.2</td>\n",
       "      <td>1.4</td>\n",
       "      <td>70.1</td>\n",
       "      <td>14.6</td>\n",
       "      <td>250.1</td>\n",
       "    </tr>\n",
       "    <tr>\n",
       "      <th>1</th>\n",
       "      <td>1955</td>\n",
       "      <td>6</td>\n",
       "      <td>18.8</td>\n",
       "      <td>6.6</td>\n",
       "      <td>83.2</td>\n",
       "      <td>12.9</td>\n",
       "      <td>124.0</td>\n",
       "    </tr>\n",
       "    <tr>\n",
       "      <th>2</th>\n",
       "      <td>1955</td>\n",
       "      <td>7</td>\n",
       "      <td>21.3</td>\n",
       "      <td>8.8</td>\n",
       "      <td>22.1</td>\n",
       "      <td>6.2</td>\n",
       "      <td>213.3</td>\n",
       "    </tr>\n",
       "    <tr>\n",
       "      <th>3</th>\n",
       "      <td>1955</td>\n",
       "      <td>8</td>\n",
       "      <td>27.1</td>\n",
       "      <td>9.5</td>\n",
       "      <td>27.3</td>\n",
       "      <td>8.1</td>\n",
       "      <td>140.9</td>\n",
       "    </tr>\n",
       "    <tr>\n",
       "      <th>4</th>\n",
       "      <td>1955</td>\n",
       "      <td>9</td>\n",
       "      <td>23.4</td>\n",
       "      <td>7.7</td>\n",
       "      <td>114.2</td>\n",
       "      <td>16.0</td>\n",
       "      <td>121.9</td>\n",
       "    </tr>\n",
       "  </tbody>\n",
       "</table>\n",
       "</div>"
      ],
      "text/plain": [
       "   year  month  maxtp  mintp   rain  wdsp    sun\n",
       "0  1955      5   20.2    1.4   70.1  14.6  250.1\n",
       "1  1955      6   18.8    6.6   83.2  12.9  124.0\n",
       "2  1955      7   21.3    8.8   22.1   6.2  213.3\n",
       "3  1955      8   27.1    9.5   27.3   8.1  140.9\n",
       "4  1955      9   23.4    7.7  114.2  16.0  121.9"
      ]
     },
     "execution_count": 113,
     "metadata": {},
     "output_type": "execute_result"
    }
   ],
   "source": [
    "import pandas as pd\n",
    "\n",
    "DonegalMonthlydf = pd.read_csv('C:/Users./BYO User/UCD Data Project/Downloads for Data Project/DonegalMonthly.csv', usecols= [\"year\", \"month\", \"rain\", \"maxtp\", \"mintp\", \"wdsp\", \"sun\"], skiprows=19, sep = '\\s*,\\s*', engine = 'python')\n",
    "CorkMonthlydf = pd.read_csv('C:/Users./BYO User/UCD Data Project/Downloads for Data Project/CorkMonthly.csv', usecols= [\"year\", \"month\", \"rain\", \"maxtp\", \"mintp\", \"wdsp\", \"sun\"], skiprows=19, sep = '\\s*,\\s*', engine = 'python')\n",
    "\n",
    "DonegalMonthlydf.head() #and add this to see if our code worked"
   ]
  },
  {
   "cell_type": "code",
   "execution_count": 114,
   "id": "54ecb15a",
   "metadata": {},
   "outputs": [
    {
     "name": "stdout",
     "output_type": "stream",
     "text": [
      "     year  month  maxtp  mintp   rain  wdsp    sun\n",
      "548  2001      1    9.4   -1.7   61.5  15.7   77.7\n",
      "549  2001      2   11.3   -0.7   86.5  17.2   88.7\n",
      "550  2001      3   13.1   -2.5   29.4  17.4  125.0\n",
      "551  2001      4   14.9    2.2   54.2  13.9  152.0\n",
      "552  2001      5   22.3    3.7   34.2   9.7  221.9\n",
      "553  2001      6   21.6    6.4   59.0  14.4  135.8\n",
      "554  2001      7   21.4    7.4   72.6  12.3  137.6\n",
      "555  2001      8   21.0    9.6   84.6  12.3  164.0\n",
      "556  2001      9   19.1    7.1   60.3  16.2  118.0\n",
      "557  2001     10   18.1    6.0   94.1  18.2   71.1\n",
      "558  2001     11   14.5    1.9  121.8  17.5   23.1\n",
      "559  2001     12   13.1   -0.1   98.5  17.0   56.6\n",
      "     year  month  maxtp  mintp   rain  wdsp    sun\n",
      "608  2006      1   12.0   -0.7   67.6  15.7   49.5\n",
      "609  2006      2   12.3   -0.1   39.8  16.6   98.8\n",
      "610  2006      3   15.1   -1.5  108.0  16.1   94.4\n",
      "611  2006      4   13.2    1.5   69.4  14.9  174.6\n",
      "612  2006      5   17.3    4.4   73.9  16.3  232.1\n",
      "613  2006      6   24.6    8.0   63.3  11.6  194.5\n",
      "614  2006      7   25.9    7.8   71.7  10.5  169.5\n",
      "615  2006      8   23.1   11.1   62.0  13.3  117.6\n",
      "616  2006      9   21.2    7.5  122.8  13.0  106.2\n",
      "617  2006     10   18.6    7.0  127.3  15.2   94.0\n",
      "618  2006     11   13.7    2.0  168.1  19.3   50.9\n",
      "619  2006     12   13.0    0.0  183.0  17.5   47.7\n",
      "     year  month  maxtp  mintp   rain  wdsp  sun\n",
      "668  2011      1   11.7   -3.6   89.6  13.7  NaN\n",
      "669  2011      2   13.5    0.2  105.5  15.3  NaN\n",
      "670  2011      3   15.4    0.4   59.0  12.2  NaN\n",
      "671  2011      4   20.8    5.5   66.2  12.5  NaN\n",
      "672  2011      5   18.3    5.9  100.4  19.4  NaN\n",
      "673  2011      6   19.2    4.2   84.5  11.2  NaN\n",
      "674  2011      7   21.0    7.7   49.9  10.6  NaN\n",
      "675  2011      8   19.4    7.0   79.0  11.2  NaN\n",
      "676  2011      9   23.4    7.5  133.0  17.5  NaN\n",
      "677  2011     10   16.4    4.6  177.1  17.3  NaN\n",
      "678  2011     11   14.9    2.5  103.7  17.7  NaN\n",
      "679  2011     12   13.5    2.0  184.2  22.3  NaN\n",
      "     year  month  maxtp  mintp   rain  wdsp  sun\n",
      "740  2017      1   11.6   -0.5   56.7  16.5  NaN\n",
      "741  2017      2   12.4   -0.5   85.1  17.6  NaN\n",
      "742  2017      3   16.8   -0.2   96.9  14.0  NaN\n",
      "743  2017      4   15.7    3.0   41.1  14.4  NaN\n",
      "744  2017      5   25.1    4.6   50.9  11.3  NaN\n",
      "745  2017      6   21.0    7.2   77.7  14.5  NaN\n",
      "746  2017      7   24.7    7.6  114.6  13.0  NaN\n",
      "747  2017      8   20.6    8.6  172.5  13.1  NaN\n",
      "748  2017      9   18.5    6.7   88.2  15.0  NaN\n",
      "749  2017     10   17.1    3.7  109.9  18.0  NaN\n",
      "750  2017     11   13.0    1.8  137.5  16.9  NaN\n",
      "751  2017     12   12.6    0.3  117.0  16.9  NaN\n",
      "     year  month  maxtp  mintp   rain  wdsp  sun\n",
      "788  2021      1   10.2   -2.4  126.9  15.2  NaN\n",
      "789  2021      2   13.8   -0.7   96.1  20.9  NaN\n",
      "790  2021      3   14.7    1.7   90.7  14.8  NaN\n",
      "791  2021      4   14.3    0.1   31.6  12.4  NaN\n",
      "792  2021      5   21.5    1.4   99.3  12.4  NaN\n",
      "793  2021      6   22.3    7.6   49.0  12.2  NaN\n",
      "794  2021      7   23.5   10.4   52.0   7.8  NaN\n",
      "795  2021      8   20.3    9.0   69.1   9.2  NaN\n",
      "796  2021      9   22.8    7.8   68.3  11.2  NaN\n",
      "797  2021     10   18.3    4.9  156.2  14.9  NaN\n",
      "798  2021     11   15.6    3.7   95.4  18.6  NaN\n",
      "799  2021     12   13.1    1.6  115.2  15.8  NaN\n"
     ]
    }
   ],
   "source": [
    "print(DonegalMonthlydf.iloc[548:560 , 0:13])\n",
    "print(DonegalMonthlydf.iloc[608:620 , 0:13])\n",
    "print(DonegalMonthlydf.iloc[668:680 , 0:13])\n",
    "print(DonegalMonthlydf.iloc[740:752 , 0:13])\n",
    "print(DonegalMonthlydf.iloc[788:800 , 0:13])"
   ]
  },
  {
   "cell_type": "code",
   "execution_count": 115,
   "id": "bfc3de70",
   "metadata": {},
   "outputs": [],
   "source": [
    "# new df from original df and drop year column as we have already identified\n",
    "DonegalMonthly2001 = DonegalMonthlydf.iloc[548:560 , 1:13].copy()\n",
    "DonegalMonthly2006 = DonegalMonthlydf.iloc[608:619 , 1:13].copy()\n",
    "DonegalMonthly2011 = DonegalMonthlydf.iloc[668:679 , 1:13].copy()\n",
    "DonegalMonthly2017 = DonegalMonthlydf.iloc[740:751 , 1:13].copy()\n",
    "DonegalMonthly2021 = DonegalMonthlydf.iloc[788:799 , 1:13].copy()"
   ]
  },
  {
   "cell_type": "code",
   "execution_count": 91,
   "id": "f2332413",
   "metadata": {},
   "outputs": [
    {
     "data": {
      "text/html": [
       "<div>\n",
       "<style scoped>\n",
       "    .dataframe tbody tr th:only-of-type {\n",
       "        vertical-align: middle;\n",
       "    }\n",
       "\n",
       "    .dataframe tbody tr th {\n",
       "        vertical-align: top;\n",
       "    }\n",
       "\n",
       "    .dataframe thead th {\n",
       "        text-align: right;\n",
       "    }\n",
       "</style>\n",
       "<table border=\"1\" class=\"dataframe\">\n",
       "  <thead>\n",
       "    <tr style=\"text-align: right;\">\n",
       "      <th></th>\n",
       "      <th>month</th>\n",
       "      <th>maxtp</th>\n",
       "      <th>mintp</th>\n",
       "      <th>rain</th>\n",
       "      <th>wdsp</th>\n",
       "      <th>sun</th>\n",
       "    </tr>\n",
       "  </thead>\n",
       "  <tbody>\n",
       "    <tr>\n",
       "      <th>548</th>\n",
       "      <td>1</td>\n",
       "      <td>9.4</td>\n",
       "      <td>-1.7</td>\n",
       "      <td>61.5</td>\n",
       "      <td>15.7</td>\n",
       "      <td>77.7</td>\n",
       "    </tr>\n",
       "    <tr>\n",
       "      <th>549</th>\n",
       "      <td>2</td>\n",
       "      <td>11.3</td>\n",
       "      <td>-0.7</td>\n",
       "      <td>86.5</td>\n",
       "      <td>17.2</td>\n",
       "      <td>88.7</td>\n",
       "    </tr>\n",
       "    <tr>\n",
       "      <th>550</th>\n",
       "      <td>3</td>\n",
       "      <td>13.1</td>\n",
       "      <td>-2.5</td>\n",
       "      <td>29.4</td>\n",
       "      <td>17.4</td>\n",
       "      <td>125.0</td>\n",
       "    </tr>\n",
       "    <tr>\n",
       "      <th>551</th>\n",
       "      <td>4</td>\n",
       "      <td>14.9</td>\n",
       "      <td>2.2</td>\n",
       "      <td>54.2</td>\n",
       "      <td>13.9</td>\n",
       "      <td>152.0</td>\n",
       "    </tr>\n",
       "    <tr>\n",
       "      <th>552</th>\n",
       "      <td>5</td>\n",
       "      <td>22.3</td>\n",
       "      <td>3.7</td>\n",
       "      <td>34.2</td>\n",
       "      <td>9.7</td>\n",
       "      <td>221.9</td>\n",
       "    </tr>\n",
       "    <tr>\n",
       "      <th>553</th>\n",
       "      <td>6</td>\n",
       "      <td>21.6</td>\n",
       "      <td>6.4</td>\n",
       "      <td>59.0</td>\n",
       "      <td>14.4</td>\n",
       "      <td>135.8</td>\n",
       "    </tr>\n",
       "    <tr>\n",
       "      <th>554</th>\n",
       "      <td>7</td>\n",
       "      <td>21.4</td>\n",
       "      <td>7.4</td>\n",
       "      <td>72.6</td>\n",
       "      <td>12.3</td>\n",
       "      <td>137.6</td>\n",
       "    </tr>\n",
       "    <tr>\n",
       "      <th>555</th>\n",
       "      <td>8</td>\n",
       "      <td>21.0</td>\n",
       "      <td>9.6</td>\n",
       "      <td>84.6</td>\n",
       "      <td>12.3</td>\n",
       "      <td>164.0</td>\n",
       "    </tr>\n",
       "    <tr>\n",
       "      <th>556</th>\n",
       "      <td>9</td>\n",
       "      <td>19.1</td>\n",
       "      <td>7.1</td>\n",
       "      <td>60.3</td>\n",
       "      <td>16.2</td>\n",
       "      <td>118.0</td>\n",
       "    </tr>\n",
       "    <tr>\n",
       "      <th>557</th>\n",
       "      <td>10</td>\n",
       "      <td>18.1</td>\n",
       "      <td>6.0</td>\n",
       "      <td>94.1</td>\n",
       "      <td>18.2</td>\n",
       "      <td>71.1</td>\n",
       "    </tr>\n",
       "    <tr>\n",
       "      <th>558</th>\n",
       "      <td>11</td>\n",
       "      <td>14.5</td>\n",
       "      <td>1.9</td>\n",
       "      <td>121.8</td>\n",
       "      <td>17.5</td>\n",
       "      <td>23.1</td>\n",
       "    </tr>\n",
       "    <tr>\n",
       "      <th>559</th>\n",
       "      <td>12</td>\n",
       "      <td>13.1</td>\n",
       "      <td>-0.1</td>\n",
       "      <td>98.5</td>\n",
       "      <td>17.0</td>\n",
       "      <td>56.6</td>\n",
       "    </tr>\n",
       "  </tbody>\n",
       "</table>\n",
       "</div>"
      ],
      "text/plain": [
       "     month  maxtp  mintp   rain  wdsp    sun\n",
       "548      1    9.4   -1.7   61.5  15.7   77.7\n",
       "549      2   11.3   -0.7   86.5  17.2   88.7\n",
       "550      3   13.1   -2.5   29.4  17.4  125.0\n",
       "551      4   14.9    2.2   54.2  13.9  152.0\n",
       "552      5   22.3    3.7   34.2   9.7  221.9\n",
       "553      6   21.6    6.4   59.0  14.4  135.8\n",
       "554      7   21.4    7.4   72.6  12.3  137.6\n",
       "555      8   21.0    9.6   84.6  12.3  164.0\n",
       "556      9   19.1    7.1   60.3  16.2  118.0\n",
       "557     10   18.1    6.0   94.1  18.2   71.1\n",
       "558     11   14.5    1.9  121.8  17.5   23.1\n",
       "559     12   13.1   -0.1   98.5  17.0   56.6"
      ]
     },
     "execution_count": 91,
     "metadata": {},
     "output_type": "execute_result"
    }
   ],
   "source": [
    "DonegalMonthly2001"
   ]
  },
  {
   "cell_type": "code",
   "execution_count": 92,
   "id": "0e898866",
   "metadata": {},
   "outputs": [
    {
     "data": {
      "text/html": [
       "<div>\n",
       "<style scoped>\n",
       "    .dataframe tbody tr th:only-of-type {\n",
       "        vertical-align: middle;\n",
       "    }\n",
       "\n",
       "    .dataframe tbody tr th {\n",
       "        vertical-align: top;\n",
       "    }\n",
       "\n",
       "    .dataframe thead th {\n",
       "        text-align: right;\n",
       "    }\n",
       "</style>\n",
       "<table border=\"1\" class=\"dataframe\">\n",
       "  <thead>\n",
       "    <tr style=\"text-align: right;\">\n",
       "      <th></th>\n",
       "      <th>month</th>\n",
       "      <th>maxtp</th>\n",
       "      <th>mintp</th>\n",
       "      <th>rain</th>\n",
       "      <th>wdsp</th>\n",
       "      <th>sun</th>\n",
       "    </tr>\n",
       "  </thead>\n",
       "  <tbody>\n",
       "    <tr>\n",
       "      <th>608</th>\n",
       "      <td>1</td>\n",
       "      <td>12.0</td>\n",
       "      <td>-0.7</td>\n",
       "      <td>67.6</td>\n",
       "      <td>15.7</td>\n",
       "      <td>49.5</td>\n",
       "    </tr>\n",
       "    <tr>\n",
       "      <th>609</th>\n",
       "      <td>2</td>\n",
       "      <td>12.3</td>\n",
       "      <td>-0.1</td>\n",
       "      <td>39.8</td>\n",
       "      <td>16.6</td>\n",
       "      <td>98.8</td>\n",
       "    </tr>\n",
       "    <tr>\n",
       "      <th>610</th>\n",
       "      <td>3</td>\n",
       "      <td>15.1</td>\n",
       "      <td>-1.5</td>\n",
       "      <td>108.0</td>\n",
       "      <td>16.1</td>\n",
       "      <td>94.4</td>\n",
       "    </tr>\n",
       "    <tr>\n",
       "      <th>611</th>\n",
       "      <td>4</td>\n",
       "      <td>13.2</td>\n",
       "      <td>1.5</td>\n",
       "      <td>69.4</td>\n",
       "      <td>14.9</td>\n",
       "      <td>174.6</td>\n",
       "    </tr>\n",
       "    <tr>\n",
       "      <th>612</th>\n",
       "      <td>5</td>\n",
       "      <td>17.3</td>\n",
       "      <td>4.4</td>\n",
       "      <td>73.9</td>\n",
       "      <td>16.3</td>\n",
       "      <td>232.1</td>\n",
       "    </tr>\n",
       "    <tr>\n",
       "      <th>613</th>\n",
       "      <td>6</td>\n",
       "      <td>24.6</td>\n",
       "      <td>8.0</td>\n",
       "      <td>63.3</td>\n",
       "      <td>11.6</td>\n",
       "      <td>194.5</td>\n",
       "    </tr>\n",
       "    <tr>\n",
       "      <th>614</th>\n",
       "      <td>7</td>\n",
       "      <td>25.9</td>\n",
       "      <td>7.8</td>\n",
       "      <td>71.7</td>\n",
       "      <td>10.5</td>\n",
       "      <td>169.5</td>\n",
       "    </tr>\n",
       "    <tr>\n",
       "      <th>615</th>\n",
       "      <td>8</td>\n",
       "      <td>23.1</td>\n",
       "      <td>11.1</td>\n",
       "      <td>62.0</td>\n",
       "      <td>13.3</td>\n",
       "      <td>117.6</td>\n",
       "    </tr>\n",
       "    <tr>\n",
       "      <th>616</th>\n",
       "      <td>9</td>\n",
       "      <td>21.2</td>\n",
       "      <td>7.5</td>\n",
       "      <td>122.8</td>\n",
       "      <td>13.0</td>\n",
       "      <td>106.2</td>\n",
       "    </tr>\n",
       "    <tr>\n",
       "      <th>617</th>\n",
       "      <td>10</td>\n",
       "      <td>18.6</td>\n",
       "      <td>7.0</td>\n",
       "      <td>127.3</td>\n",
       "      <td>15.2</td>\n",
       "      <td>94.0</td>\n",
       "    </tr>\n",
       "    <tr>\n",
       "      <th>618</th>\n",
       "      <td>11</td>\n",
       "      <td>13.7</td>\n",
       "      <td>2.0</td>\n",
       "      <td>168.1</td>\n",
       "      <td>19.3</td>\n",
       "      <td>50.9</td>\n",
       "    </tr>\n",
       "  </tbody>\n",
       "</table>\n",
       "</div>"
      ],
      "text/plain": [
       "     month  maxtp  mintp   rain  wdsp    sun\n",
       "608      1   12.0   -0.7   67.6  15.7   49.5\n",
       "609      2   12.3   -0.1   39.8  16.6   98.8\n",
       "610      3   15.1   -1.5  108.0  16.1   94.4\n",
       "611      4   13.2    1.5   69.4  14.9  174.6\n",
       "612      5   17.3    4.4   73.9  16.3  232.1\n",
       "613      6   24.6    8.0   63.3  11.6  194.5\n",
       "614      7   25.9    7.8   71.7  10.5  169.5\n",
       "615      8   23.1   11.1   62.0  13.3  117.6\n",
       "616      9   21.2    7.5  122.8  13.0  106.2\n",
       "617     10   18.6    7.0  127.3  15.2   94.0\n",
       "618     11   13.7    2.0  168.1  19.3   50.9"
      ]
     },
     "execution_count": 92,
     "metadata": {},
     "output_type": "execute_result"
    }
   ],
   "source": [
    "DonegalMonthly2006"
   ]
  },
  {
   "cell_type": "code",
   "execution_count": 105,
   "id": "cfdfa8e1",
   "metadata": {},
   "outputs": [
    {
     "name": "stdout",
     "output_type": "stream",
     "text": [
      "<class 'pandas.core.frame.DataFrame'>\n",
      "Index: 12 entries, Jan to Dec\n",
      "Data columns (total 5 columns):\n",
      " #   Column  Non-Null Count  Dtype  \n",
      "---  ------  --------------  -----  \n",
      " 0   maxtp   12 non-null     float64\n",
      " 1   mintp   12 non-null     float64\n",
      " 2   rain    12 non-null     float64\n",
      " 3   wdsp    12 non-null     float64\n",
      " 4   sun     12 non-null     float64\n",
      "dtypes: float64(5)\n",
      "memory usage: 576.0+ bytes\n"
     ]
    }
   ],
   "source": [
    "DonegalMonthly2001.info()"
   ]
  },
  {
   "cell_type": "code",
   "execution_count": 97,
   "id": "98174fc8",
   "metadata": {},
   "outputs": [
    {
     "ename": "TypeError",
     "evalue": "list indices must be integers or slices, not str",
     "output_type": "error",
     "traceback": [
      "\u001b[1;31m---------------------------------------------------------------------------\u001b[0m",
      "\u001b[1;31mTypeError\u001b[0m                                 Traceback (most recent call last)",
      "Input \u001b[1;32mIn [97]\u001b[0m, in \u001b[0;36m<cell line: 2>\u001b[1;34m()\u001b[0m\n\u001b[0;32m      1\u001b[0m \u001b[38;5;28;01mimport\u001b[39;00m \u001b[38;5;21;01mcalendar\u001b[39;00m\n\u001b[1;32m----> 2\u001b[0m DonegalMonthly2001[\u001b[38;5;124m'\u001b[39m\u001b[38;5;124mmonth\u001b[39m\u001b[38;5;124m'\u001b[39m] \u001b[38;5;241m=\u001b[39m \u001b[43mDonegalMonthly2001\u001b[49m\u001b[43m[\u001b[49m\u001b[38;5;124;43m'\u001b[39;49m\u001b[38;5;124;43mmonth\u001b[39;49m\u001b[38;5;124;43m'\u001b[39;49m\u001b[43m]\u001b[49m\u001b[38;5;241;43m.\u001b[39;49m\u001b[43mapply\u001b[49m\u001b[43m(\u001b[49m\u001b[38;5;28;43;01mlambda\u001b[39;49;00m\u001b[43m \u001b[49m\u001b[43mx\u001b[49m\u001b[43m:\u001b[49m\u001b[43m \u001b[49m\u001b[43mcalendar\u001b[49m\u001b[38;5;241;43m.\u001b[39;49m\u001b[43mmonth_abbr\u001b[49m\u001b[43m[\u001b[49m\u001b[43mx\u001b[49m\u001b[43m]\u001b[49m\u001b[43m)\u001b[49m\n\u001b[0;32m      3\u001b[0m DonegalMonthly2006[\u001b[38;5;124m'\u001b[39m\u001b[38;5;124mmonth\u001b[39m\u001b[38;5;124m'\u001b[39m] \u001b[38;5;241m=\u001b[39m DonegalMonthly2006[\u001b[38;5;124m'\u001b[39m\u001b[38;5;124mmonth\u001b[39m\u001b[38;5;124m'\u001b[39m]\u001b[38;5;241m.\u001b[39mapply(\u001b[38;5;28;01mlambda\u001b[39;00m x: calendar\u001b[38;5;241m.\u001b[39mmonth_abbr[x])\n\u001b[0;32m      4\u001b[0m DonegalMonthly2011[\u001b[38;5;124m'\u001b[39m\u001b[38;5;124mmonth\u001b[39m\u001b[38;5;124m'\u001b[39m] \u001b[38;5;241m=\u001b[39m DonegalMonthly2011[\u001b[38;5;124m'\u001b[39m\u001b[38;5;124mmonth\u001b[39m\u001b[38;5;124m'\u001b[39m]\u001b[38;5;241m.\u001b[39mapply(\u001b[38;5;28;01mlambda\u001b[39;00m x: calendar\u001b[38;5;241m.\u001b[39mmonth_abbr[x])\n",
      "File \u001b[1;32m~\\anaconda3\\lib\\site-packages\\pandas\\core\\series.py:4433\u001b[0m, in \u001b[0;36mSeries.apply\u001b[1;34m(self, func, convert_dtype, args, **kwargs)\u001b[0m\n\u001b[0;32m   4323\u001b[0m \u001b[38;5;28;01mdef\u001b[39;00m \u001b[38;5;21mapply\u001b[39m(\n\u001b[0;32m   4324\u001b[0m     \u001b[38;5;28mself\u001b[39m,\n\u001b[0;32m   4325\u001b[0m     func: AggFuncType,\n\u001b[1;32m   (...)\u001b[0m\n\u001b[0;32m   4328\u001b[0m     \u001b[38;5;241m*\u001b[39m\u001b[38;5;241m*\u001b[39mkwargs,\n\u001b[0;32m   4329\u001b[0m ) \u001b[38;5;241m-\u001b[39m\u001b[38;5;241m>\u001b[39m DataFrame \u001b[38;5;241m|\u001b[39m Series:\n\u001b[0;32m   4330\u001b[0m     \u001b[38;5;124;03m\"\"\"\u001b[39;00m\n\u001b[0;32m   4331\u001b[0m \u001b[38;5;124;03m    Invoke function on values of Series.\u001b[39;00m\n\u001b[0;32m   4332\u001b[0m \n\u001b[1;32m   (...)\u001b[0m\n\u001b[0;32m   4431\u001b[0m \u001b[38;5;124;03m    dtype: float64\u001b[39;00m\n\u001b[0;32m   4432\u001b[0m \u001b[38;5;124;03m    \"\"\"\u001b[39;00m\n\u001b[1;32m-> 4433\u001b[0m     \u001b[38;5;28;01mreturn\u001b[39;00m \u001b[43mSeriesApply\u001b[49m\u001b[43m(\u001b[49m\u001b[38;5;28;43mself\u001b[39;49m\u001b[43m,\u001b[49m\u001b[43m \u001b[49m\u001b[43mfunc\u001b[49m\u001b[43m,\u001b[49m\u001b[43m \u001b[49m\u001b[43mconvert_dtype\u001b[49m\u001b[43m,\u001b[49m\u001b[43m \u001b[49m\u001b[43margs\u001b[49m\u001b[43m,\u001b[49m\u001b[43m \u001b[49m\u001b[43mkwargs\u001b[49m\u001b[43m)\u001b[49m\u001b[38;5;241;43m.\u001b[39;49m\u001b[43mapply\u001b[49m\u001b[43m(\u001b[49m\u001b[43m)\u001b[49m\n",
      "File \u001b[1;32m~\\anaconda3\\lib\\site-packages\\pandas\\core\\apply.py:1082\u001b[0m, in \u001b[0;36mSeriesApply.apply\u001b[1;34m(self)\u001b[0m\n\u001b[0;32m   1078\u001b[0m \u001b[38;5;28;01mif\u001b[39;00m \u001b[38;5;28misinstance\u001b[39m(\u001b[38;5;28mself\u001b[39m\u001b[38;5;241m.\u001b[39mf, \u001b[38;5;28mstr\u001b[39m):\n\u001b[0;32m   1079\u001b[0m     \u001b[38;5;66;03m# if we are a string, try to dispatch\u001b[39;00m\n\u001b[0;32m   1080\u001b[0m     \u001b[38;5;28;01mreturn\u001b[39;00m \u001b[38;5;28mself\u001b[39m\u001b[38;5;241m.\u001b[39mapply_str()\n\u001b[1;32m-> 1082\u001b[0m \u001b[38;5;28;01mreturn\u001b[39;00m \u001b[38;5;28;43mself\u001b[39;49m\u001b[38;5;241;43m.\u001b[39;49m\u001b[43mapply_standard\u001b[49m\u001b[43m(\u001b[49m\u001b[43m)\u001b[49m\n",
      "File \u001b[1;32m~\\anaconda3\\lib\\site-packages\\pandas\\core\\apply.py:1137\u001b[0m, in \u001b[0;36mSeriesApply.apply_standard\u001b[1;34m(self)\u001b[0m\n\u001b[0;32m   1131\u001b[0m         values \u001b[38;5;241m=\u001b[39m obj\u001b[38;5;241m.\u001b[39mastype(\u001b[38;5;28mobject\u001b[39m)\u001b[38;5;241m.\u001b[39m_values\n\u001b[0;32m   1132\u001b[0m         \u001b[38;5;66;03m# error: Argument 2 to \"map_infer\" has incompatible type\u001b[39;00m\n\u001b[0;32m   1133\u001b[0m         \u001b[38;5;66;03m# \"Union[Callable[..., Any], str, List[Union[Callable[..., Any], str]],\u001b[39;00m\n\u001b[0;32m   1134\u001b[0m         \u001b[38;5;66;03m# Dict[Hashable, Union[Union[Callable[..., Any], str],\u001b[39;00m\n\u001b[0;32m   1135\u001b[0m         \u001b[38;5;66;03m# List[Union[Callable[..., Any], str]]]]]\"; expected\u001b[39;00m\n\u001b[0;32m   1136\u001b[0m         \u001b[38;5;66;03m# \"Callable[[Any], Any]\"\u001b[39;00m\n\u001b[1;32m-> 1137\u001b[0m         mapped \u001b[38;5;241m=\u001b[39m \u001b[43mlib\u001b[49m\u001b[38;5;241;43m.\u001b[39;49m\u001b[43mmap_infer\u001b[49m\u001b[43m(\u001b[49m\n\u001b[0;32m   1138\u001b[0m \u001b[43m            \u001b[49m\u001b[43mvalues\u001b[49m\u001b[43m,\u001b[49m\n\u001b[0;32m   1139\u001b[0m \u001b[43m            \u001b[49m\u001b[43mf\u001b[49m\u001b[43m,\u001b[49m\u001b[43m  \u001b[49m\u001b[38;5;66;43;03m# type: ignore[arg-type]\u001b[39;49;00m\n\u001b[0;32m   1140\u001b[0m \u001b[43m            \u001b[49m\u001b[43mconvert\u001b[49m\u001b[38;5;241;43m=\u001b[39;49m\u001b[38;5;28;43mself\u001b[39;49m\u001b[38;5;241;43m.\u001b[39;49m\u001b[43mconvert_dtype\u001b[49m\u001b[43m,\u001b[49m\n\u001b[0;32m   1141\u001b[0m \u001b[43m        \u001b[49m\u001b[43m)\u001b[49m\n\u001b[0;32m   1143\u001b[0m \u001b[38;5;28;01mif\u001b[39;00m \u001b[38;5;28mlen\u001b[39m(mapped) \u001b[38;5;129;01mand\u001b[39;00m \u001b[38;5;28misinstance\u001b[39m(mapped[\u001b[38;5;241m0\u001b[39m], ABCSeries):\n\u001b[0;32m   1144\u001b[0m     \u001b[38;5;66;03m# GH#43986 Need to do list(mapped) in order to get treated as nested\u001b[39;00m\n\u001b[0;32m   1145\u001b[0m     \u001b[38;5;66;03m#  See also GH#25959 regarding EA support\u001b[39;00m\n\u001b[0;32m   1146\u001b[0m     \u001b[38;5;28;01mreturn\u001b[39;00m obj\u001b[38;5;241m.\u001b[39m_constructor_expanddim(\u001b[38;5;28mlist\u001b[39m(mapped), index\u001b[38;5;241m=\u001b[39mobj\u001b[38;5;241m.\u001b[39mindex)\n",
      "File \u001b[1;32m~\\anaconda3\\lib\\site-packages\\pandas\\_libs\\lib.pyx:2870\u001b[0m, in \u001b[0;36mpandas._libs.lib.map_infer\u001b[1;34m()\u001b[0m\n",
      "Input \u001b[1;32mIn [97]\u001b[0m, in \u001b[0;36m<lambda>\u001b[1;34m(x)\u001b[0m\n\u001b[0;32m      1\u001b[0m \u001b[38;5;28;01mimport\u001b[39;00m \u001b[38;5;21;01mcalendar\u001b[39;00m\n\u001b[1;32m----> 2\u001b[0m DonegalMonthly2001[\u001b[38;5;124m'\u001b[39m\u001b[38;5;124mmonth\u001b[39m\u001b[38;5;124m'\u001b[39m] \u001b[38;5;241m=\u001b[39m DonegalMonthly2001[\u001b[38;5;124m'\u001b[39m\u001b[38;5;124mmonth\u001b[39m\u001b[38;5;124m'\u001b[39m]\u001b[38;5;241m.\u001b[39mapply(\u001b[38;5;28;01mlambda\u001b[39;00m x: \u001b[43mcalendar\u001b[49m\u001b[38;5;241;43m.\u001b[39;49m\u001b[43mmonth_abbr\u001b[49m\u001b[43m[\u001b[49m\u001b[43mx\u001b[49m\u001b[43m]\u001b[49m)\n\u001b[0;32m      3\u001b[0m DonegalMonthly2006[\u001b[38;5;124m'\u001b[39m\u001b[38;5;124mmonth\u001b[39m\u001b[38;5;124m'\u001b[39m] \u001b[38;5;241m=\u001b[39m DonegalMonthly2006[\u001b[38;5;124m'\u001b[39m\u001b[38;5;124mmonth\u001b[39m\u001b[38;5;124m'\u001b[39m]\u001b[38;5;241m.\u001b[39mapply(\u001b[38;5;28;01mlambda\u001b[39;00m x: calendar\u001b[38;5;241m.\u001b[39mmonth_abbr[x])\n\u001b[0;32m      4\u001b[0m DonegalMonthly2011[\u001b[38;5;124m'\u001b[39m\u001b[38;5;124mmonth\u001b[39m\u001b[38;5;124m'\u001b[39m] \u001b[38;5;241m=\u001b[39m DonegalMonthly2011[\u001b[38;5;124m'\u001b[39m\u001b[38;5;124mmonth\u001b[39m\u001b[38;5;124m'\u001b[39m]\u001b[38;5;241m.\u001b[39mapply(\u001b[38;5;28;01mlambda\u001b[39;00m x: calendar\u001b[38;5;241m.\u001b[39mmonth_abbr[x])\n",
      "File \u001b[1;32m~\\anaconda3\\lib\\calendar.py:59\u001b[0m, in \u001b[0;36m_localized_month.__getitem__\u001b[1;34m(self, i)\u001b[0m\n\u001b[0;32m     58\u001b[0m \u001b[38;5;28;01mdef\u001b[39;00m \u001b[38;5;21m__getitem__\u001b[39m(\u001b[38;5;28mself\u001b[39m, i):\n\u001b[1;32m---> 59\u001b[0m     funcs \u001b[38;5;241m=\u001b[39m \u001b[38;5;28;43mself\u001b[39;49m\u001b[38;5;241;43m.\u001b[39;49m\u001b[43m_months\u001b[49m\u001b[43m[\u001b[49m\u001b[43mi\u001b[49m\u001b[43m]\u001b[49m\n\u001b[0;32m     60\u001b[0m     \u001b[38;5;28;01mif\u001b[39;00m \u001b[38;5;28misinstance\u001b[39m(i, \u001b[38;5;28mslice\u001b[39m):\n\u001b[0;32m     61\u001b[0m         \u001b[38;5;28;01mreturn\u001b[39;00m [f(\u001b[38;5;28mself\u001b[39m\u001b[38;5;241m.\u001b[39mformat) \u001b[38;5;28;01mfor\u001b[39;00m f \u001b[38;5;129;01min\u001b[39;00m funcs]\n",
      "\u001b[1;31mTypeError\u001b[0m: list indices must be integers or slices, not str"
     ]
    }
   ],
   "source": [
    "import calendar\n",
    "DonegalMonthly2001['month'] = DonegalMonthly2001['month'].apply(lambda x: calendar.month_abbr[x])\n",
    "DonegalMonthly2006['month'] = DonegalMonthly2006['month'].apply(lambda x: calendar.month_abbr[x])\n",
    "DonegalMonthly2011['month'] = DonegalMonthly2011['month'].apply(lambda x: calendar.month_abbr[x])\n",
    "DonegalMonthly2017['month'] = DonegalMonthly2017['month'].apply(lambda x: calendar.month_abbr[x])\n",
    "DonegalMonthly2021['month'] = DonegalMonthly2021['month'].apply(lambda x: calendar.month_abbr[x])\n",
    "\n",
    "DonegalMonthly2001"
   ]
  },
  {
   "cell_type": "code",
   "execution_count": 98,
   "id": "3eeac971",
   "metadata": {},
   "outputs": [
    {
     "data": {
      "text/plain": [
       "<function matplotlib.pyplot.show(close=None, block=None)>"
      ]
     },
     "execution_count": 98,
     "metadata": {},
     "output_type": "execute_result"
    },
    {
     "data": {
      "image/png": "[encoded data removed]",
      "text/plain": [
       "<Figure size 432x288 with 1 Axes>"
      ]
     },
     "metadata": {
      "needs_background": "light"
     },
     "output_type": "display_data"
    }
   ],
   "source": [
    "import matplotlib.pyplot as plt\n",
    "fig, ax = plt.subplots()\n",
    "ax.plot(DonegalMonthly2001['month'], DonegalMonthly2001['sun'])\n",
    "\n",
    "plt.xlabel(\"Month\")\n",
    "plt.ylabel(\"Hours Sunshine\")\n",
    "plt.title(\"Hours of Sunshine Donegal 2001\")\n",
    "\n",
    "plt.show"
   ]
  },
  {
   "cell_type": "code",
   "execution_count": 99,
   "id": "b77c80be",
   "metadata": {},
   "outputs": [
    {
     "data": {
      "text/plain": [
       "<function matplotlib.pyplot.show(close=None, block=None)>"
      ]
     },
     "execution_count": 99,
     "metadata": {},
     "output_type": "execute_result"
    },
    {
     "data": {
      "image/png": "[encoded data removed]",
      "text/plain": [
       "<Figure size 432x288 with 1 Axes>"
      ]
     },
     "metadata": {
      "needs_background": "light"
     },
     "output_type": "display_data"
    }
   ],
   "source": [
    "import matplotlib.pyplot as plt\n",
    "fig, ax = plt.subplots()\n",
    "ax.plot(DonegalMonthly2001['month'], DonegalMonthly2001['wdsp'])\n",
    "\n",
    "plt.xlabel(\"Month\")\n",
    "plt.ylabel(\"Mean Wind Speed (knots)\")\n",
    "plt.title(\"Mean Wind Speed per Month - Donegal 2001\")\n",
    "\n",
    "plt.show"
   ]
  },
  {
   "cell_type": "code",
   "execution_count": 100,
   "id": "d9286705",
   "metadata": {},
   "outputs": [
    {
     "data": {
      "image/png": "[encoded data removed]",
      "text/plain": [
       "<Figure size 432x288 with 4 Axes>"
      ]
     },
     "metadata": {
      "needs_background": "light"
     },
     "output_type": "display_data"
    }
   ],
   "source": [
    "# For Donegal 2001 and show 4 subplots\n",
    "fig, ax = plt.subplots(2, 2)\n",
    "DonegalMonthly2001.set_index(\"month\",drop=True,inplace=True)\n",
    "DonegalMonthly2001['rain'].plot(ax=ax[0, 0], title=\"rain\")\n",
    "DonegalMonthly2001['wdsp'].plot(ax=ax[0, 1], title=\"wdsp\")\n",
    "DonegalMonthly2001['mintp'].plot(ax=ax[1, 0], title=\"mintp\")\n",
    "DonegalMonthly2001['maxtp'].plot(ax=ax[1, 1], title=\"maxtp\")\n",
    "plt.tight_layout()"
   ]
  },
  {
   "cell_type": "code",
   "execution_count": 75,
   "id": "ed6a0e8f",
   "metadata": {},
   "outputs": [
    {
     "ename": "KeyError",
     "evalue": "\"None of ['month'] are in the columns\"",
     "output_type": "error",
     "traceback": [
      "\u001b[1;31m---------------------------------------------------------------------------\u001b[0m",
      "\u001b[1;31mKeyError\u001b[0m                                  Traceback (most recent call last)",
      "Input \u001b[1;32mIn [75]\u001b[0m, in \u001b[0;36m<cell line: 2>\u001b[1;34m()\u001b[0m\n\u001b[0;32m      1\u001b[0m fig, ax \u001b[38;5;241m=\u001b[39m plt\u001b[38;5;241m.\u001b[39msubplots(\u001b[38;5;241m2\u001b[39m, \u001b[38;5;241m2\u001b[39m)\n\u001b[1;32m----> 2\u001b[0m \u001b[43mDonegalMonthly2001\u001b[49m\u001b[38;5;241;43m.\u001b[39;49m\u001b[43mset_index\u001b[49m\u001b[43m(\u001b[49m\u001b[38;5;124;43m\"\u001b[39;49m\u001b[38;5;124;43mmonth\u001b[39;49m\u001b[38;5;124;43m\"\u001b[39;49m\u001b[43m,\u001b[49m\u001b[43mdrop\u001b[49m\u001b[38;5;241;43m=\u001b[39;49m\u001b[38;5;28;43;01mTrue\u001b[39;49;00m\u001b[43m,\u001b[49m\u001b[43minplace\u001b[49m\u001b[38;5;241;43m=\u001b[39;49m\u001b[38;5;28;43;01mTrue\u001b[39;49;00m\u001b[43m)\u001b[49m\n\u001b[0;32m      3\u001b[0m DonegalMonthly2001[\u001b[38;5;124m'\u001b[39m\u001b[38;5;124mmeant\u001b[39m\u001b[38;5;124m'\u001b[39m]\u001b[38;5;241m.\u001b[39mplot(ax\u001b[38;5;241m=\u001b[39max[\u001b[38;5;241m0\u001b[39m, \u001b[38;5;241m0\u001b[39m], title\u001b[38;5;241m=\u001b[39m\u001b[38;5;124m\"\u001b[39m\u001b[38;5;124mmeant\u001b[39m\u001b[38;5;124m\"\u001b[39m)\n\u001b[0;32m      4\u001b[0m DonegalMonthly2001[\u001b[38;5;124m'\u001b[39m\u001b[38;5;124mwdsp\u001b[39m\u001b[38;5;124m'\u001b[39m]\u001b[38;5;241m.\u001b[39mplot(ax\u001b[38;5;241m=\u001b[39max[\u001b[38;5;241m0\u001b[39m, \u001b[38;5;241m1\u001b[39m], title\u001b[38;5;241m=\u001b[39m\u001b[38;5;124m\"\u001b[39m\u001b[38;5;124mwdsp\u001b[39m\u001b[38;5;124m\"\u001b[39m)\n",
      "File \u001b[1;32m~\\anaconda3\\lib\\site-packages\\pandas\\util\\_decorators.py:311\u001b[0m, in \u001b[0;36mdeprecate_nonkeyword_arguments.<locals>.decorate.<locals>.wrapper\u001b[1;34m(*args, **kwargs)\u001b[0m\n\u001b[0;32m    305\u001b[0m \u001b[38;5;28;01mif\u001b[39;00m \u001b[38;5;28mlen\u001b[39m(args) \u001b[38;5;241m>\u001b[39m num_allow_args:\n\u001b[0;32m    306\u001b[0m     warnings\u001b[38;5;241m.\u001b[39mwarn(\n\u001b[0;32m    307\u001b[0m         msg\u001b[38;5;241m.\u001b[39mformat(arguments\u001b[38;5;241m=\u001b[39marguments),\n\u001b[0;32m    308\u001b[0m         \u001b[38;5;167;01mFutureWarning\u001b[39;00m,\n\u001b[0;32m    309\u001b[0m         stacklevel\u001b[38;5;241m=\u001b[39mstacklevel,\n\u001b[0;32m    310\u001b[0m     )\n\u001b[1;32m--> 311\u001b[0m \u001b[38;5;28;01mreturn\u001b[39;00m func(\u001b[38;5;241m*\u001b[39margs, \u001b[38;5;241m*\u001b[39m\u001b[38;5;241m*\u001b[39mkwargs)\n",
      "File \u001b[1;32m~\\anaconda3\\lib\\site-packages\\pandas\\core\\frame.py:5494\u001b[0m, in \u001b[0;36mDataFrame.set_index\u001b[1;34m(self, keys, drop, append, inplace, verify_integrity)\u001b[0m\n\u001b[0;32m   5491\u001b[0m                 missing\u001b[38;5;241m.\u001b[39mappend(col)\n\u001b[0;32m   5493\u001b[0m \u001b[38;5;28;01mif\u001b[39;00m missing:\n\u001b[1;32m-> 5494\u001b[0m     \u001b[38;5;28;01mraise\u001b[39;00m \u001b[38;5;167;01mKeyError\u001b[39;00m(\u001b[38;5;124mf\u001b[39m\u001b[38;5;124m\"\u001b[39m\u001b[38;5;124mNone of \u001b[39m\u001b[38;5;132;01m{\u001b[39;00mmissing\u001b[38;5;132;01m}\u001b[39;00m\u001b[38;5;124m are in the columns\u001b[39m\u001b[38;5;124m\"\u001b[39m)\n\u001b[0;32m   5496\u001b[0m \u001b[38;5;28;01mif\u001b[39;00m inplace:\n\u001b[0;32m   5497\u001b[0m     frame \u001b[38;5;241m=\u001b[39m \u001b[38;5;28mself\u001b[39m\n",
      "\u001b[1;31mKeyError\u001b[0m: \"None of ['month'] are in the columns\""
     ]
    },
    {
     "data": {
      "image/png": "[encoded data removed]",
      "text/plain": [
       "<Figure size 432x288 with 4 Axes>"
      ]
     },
     "metadata": {
      "needs_background": "light"
     },
     "output_type": "display_data"
    }
   ],
   "source": [
    "fig, ax = plt.subplots(2, 2)\n",
    "DonegalMonthly2001.set_index(\"month\",drop=True,inplace=True)\n",
    "DonegalMonthly2001['meant'].plot(ax=ax[0, 0], title=\"meant\")\n",
    "DonegalMonthly2001['wdsp'].plot(ax=ax[0, 1], title=\"wdsp\")\n",
    "DonegalMonthly2001['mintp'].plot(ax=ax[1, 0], title=\"mintp\")\n",
    "DonegalMonthly2001['maxtp'].plot(ax=ax[1, 1], title=\"maxtp\")\n",
    "plt.tight_layout()"
   ]
  },
  {
   "cell_type": "code",
   "execution_count": 106,
   "id": "30ba9db3",
   "metadata": {},
   "outputs": [
    {
     "name": "stdout",
     "output_type": "stream",
     "text": [
      "<class 'pandas.core.frame.DataFrame'>\n",
      "Index: 12 entries, Jan to Dec\n",
      "Data columns (total 5 columns):\n",
      " #   Column  Non-Null Count  Dtype  \n",
      "---  ------  --------------  -----  \n",
      " 0   maxtp   12 non-null     float64\n",
      " 1   mintp   12 non-null     float64\n",
      " 2   rain    12 non-null     float64\n",
      " 3   wdsp    12 non-null     float64\n",
      " 4   sun     12 non-null     float64\n",
      "dtypes: float64(5)\n",
      "memory usage: 576.0+ bytes\n"
     ]
    }
   ],
   "source": [
    "DonegalMonthly2001.info()"
   ]
  },
  {
   "cell_type": "code",
   "execution_count": null,
   "id": "9e08a5f6",
   "metadata": {},
   "outputs": [],
   "source": []
  }
 ],
 "metadata": {
  "kernelspec": {
   "display_name": "Python 3 (ipykernel)",
   "language": "python",
   "name": "python3"
  },
  "language_info": {
   "codemirror_mode": {
    "name": "ipython",
    "version": 3
   },
   "file_extension": ".py",
   "mimetype": "text/x-python",
   "name": "python",
   "nbconvert_exporter": "python",
   "pygments_lexer": "ipython3",
   "version": "3.9.12"
  }
 },
 "nbformat": 4,
 "nbformat_minor": 5
}
