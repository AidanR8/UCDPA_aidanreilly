{
 "cells": [
  {
   "cell_type": "code",
   "execution_count": null,
   "id": "b9ff8583",
   "metadata": {},
   "outputs": [],
   "source": [
    "# IF ELSE STATEMENT EXAMPLE\n",
    "\n",
    "sun_hours = 0\n",
    "\n",
    "for sun in CorkMonthly2001['sun']:\n",
    "\n",
    "    if sun >= :\n",
    "\n",
    "        sun_count += 1\n",
    "        \n",
    "print(\"Number of months with sun hours great than 30 :\", sun_count)"
   ]
  }
 ],
 "metadata": {
  "kernelspec": {
   "display_name": "Python 3 (ipykernel)",
   "language": "python",
   "name": "python3"
  },
  "language_info": {
   "codemirror_mode": {
    "name": "ipython",
    "version": 3
   },
   "file_extension": ".py",
   "mimetype": "text/x-python",
   "name": "python",
   "nbconvert_exporter": "python",
   "pygments_lexer": "ipython3",
   "version": "3.9.12"
  }
 },
 "nbformat": 4,
 "nbformat_minor": 5
}
